{
  "nbformat": 4,
  "nbformat_minor": 0,
  "metadata": {
    "colab": {
      "provenance": []
    },
    "kernelspec": {
      "name": "python3",
      "display_name": "Python 3"
    },
    "language_info": {
      "name": "python"
    }
  },
  "cells": [
    {
      "cell_type": "markdown",
      "source": [
        "# **Resolução de Problemas de Otimização sob Incerteza em Cadeias de Suprimentos através de Técnicas de Aprendizado por Reforço**\n",
        "###**Atividade Vivencial**\n",
        "### **Membros do Projeto**\n",
        "* Julio César Alves\n",
        "* Tiago de Paula Martins"
      ],
      "metadata": {
        "id": "EwXN4gCTTmfO"
      }
    },
    {
      "cell_type": "markdown",
      "source": [
        "teste"
      ],
      "metadata": {
        "id": "DNc5ByRTRnDM"
      }
    },
    {
      "cell_type": "code",
      "source": [
        "teste = 'teste'"
      ],
      "metadata": {
        "id": "_o0hhfVoRqaN"
      },
      "execution_count": null,
      "outputs": []
    }
  ]
}