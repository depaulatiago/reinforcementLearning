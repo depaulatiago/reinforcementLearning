{
  "nbformat": 4,
  "nbformat_minor": 0,
  "metadata": {
    "colab": {
      "provenance": [],
      "name": "atvVivencial.ipynb",
      "authorship_tag": "ABX9TyPCF+RIwPiZfappBWCnqJgL",
      "include_colab_link": true
    },
    "kernelspec": {
      "name": "python3",
      "display_name": "Python 3"
    },
    "language_info": {
      "name": "python"
    }
  },
  "cells": [
    {
      "cell_type": "markdown",
      "metadata": {
        "id": "view-in-github",
        "colab_type": "text"
      },
      "source": [
        "<a href=\"https://colab.research.google.com/github/depaulatiago/reinforcementLearning/blob/main/atvVivencial.ipynb\" target=\"_parent\"><img src=\"https://colab.research.google.com/assets/colab-badge.svg\" alt=\"Open In Colab\"/></a>"
      ]
    },
    {
      "cell_type": "markdown",
      "source": [
        "teste"
      ],
      "metadata": {
        "id": "DNc5ByRTRnDM"
      }
    },
    {
      "cell_type": "code",
      "source": [
        "teste = 'teste'"
      ],
      "metadata": {
        "id": "_o0hhfVoRqaN"
      },
      "execution_count": 2,
      "outputs": []
    }
  ]
}